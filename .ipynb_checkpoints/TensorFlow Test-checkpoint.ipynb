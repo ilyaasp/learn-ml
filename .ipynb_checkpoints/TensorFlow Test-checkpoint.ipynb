{
 "cells": [
  {
   "cell_type": "markdown",
   "metadata": {},
   "source": [
    "## Latihan Gunain TensorFlow"
   ]
  },
  {
   "cell_type": "code",
   "execution_count": 1,
   "metadata": {},
   "outputs": [],
   "source": [
    "import tensorflow as tf"
   ]
  },
  {
   "cell_type": "code",
   "execution_count": 3,
   "metadata": {},
   "outputs": [],
   "source": [
    "# The rank/order/degree/n-dimension 0 (The rank of tf.Tensor object is its number of dimension)\n",
    "mammal = tf.Variable(\"Elephant\", tf.string)\n",
    "ignition = tf.Variable(451, tf.int16)\n",
    "floating = tf.Variable(3.1415, tf.float64)\n",
    "its_complicated = tf.Variable(12.3 - 4.85j, tf.complex64)"
   ]
  },
  {
   "cell_type": "code",
   "execution_count": 6,
   "metadata": {},
   "outputs": [
    {
     "data": {
      "text/plain": [
       "<tf.Tensor: id=144, shape=(), dtype=int32, numpy=1>"
      ]
     },
     "execution_count": 6,
     "metadata": {},
     "output_type": "execute_result"
    }
   ],
   "source": [
    "# Rank 1\n",
    "mystr = tf.Variable([\"Hello\"], tf.string)\n",
    "cool_numbers = tf.Variable([3.14, 5.98, 6.67], tf.float32)\n",
    "first_primes = tf.Variable([2, 3, 4, 5, 7], tf.int32)\n",
    "its_very_complicated = tf.Variable([12.4 - 4.85j, 7.5 - 6.23j], tf.complex64)\n",
    "ranknya = tf.rank(mystr)\n",
    "ranknya"
   ]
  },
  {
   "cell_type": "code",
   "execution_count": 7,
   "metadata": {},
   "outputs": [],
   "source": [
    "mymat = tf.Variable([[7], [11]], tf.int16)\n",
    "myxor = tf.Variable([[False, True], [True, False]], tf.bool)\n",
    "linear_squares = tf.Variable([[9], [16], [25]], tf.int32)\n",
    "squarish_squares = tf.Variable([[4, 9], [16, 25]], tf.int32)\n",
    "rank_of_squares = tf.rank(squarish_squares)\n",
    "mymatC = tf.Variable([[7], [11]], tf.int32)"
   ]
  },
  {
   "cell_type": "code",
   "execution_count": null,
   "metadata": {},
   "outputs": [],
   "source": []
  }
 ],
 "metadata": {
  "kernelspec": {
   "display_name": "Python 3",
   "language": "python",
   "name": "python3"
  },
  "language_info": {
   "codemirror_mode": {
    "name": "ipython",
    "version": 3
   },
   "file_extension": ".py",
   "mimetype": "text/x-python",
   "name": "python",
   "nbconvert_exporter": "python",
   "pygments_lexer": "ipython3",
   "version": "3.7.4"
  }
 },
 "nbformat": 4,
 "nbformat_minor": 2
}
